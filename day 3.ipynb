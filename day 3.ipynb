{
 "cells": [
  {
   "cell_type": "markdown",
   "metadata": {},
   "source": [
    "# ASSIGNMENT 1 "
   ]
  },
  {
   "cell_type": "markdown",
   "metadata": {},
   "source": [
    "# Sum of N number using while loop"
   ]
  },
  {
   "cell_type": "code",
   "execution_count": 3,
   "metadata": {},
   "outputs": [
    {
     "name": "stdout",
     "output_type": "stream",
     "text": [
      "Enter a Number : 56\n"
     ]
    }
   ],
   "source": [
    "num1 = int(input(\"Enter a Number : \"))"
   ]
  },
  {
   "cell_type": "code",
   "execution_count": 4,
   "metadata": {},
   "outputs": [
    {
     "name": "stdout",
     "output_type": "stream",
     "text": [
      "Sum :  1540\n"
     ]
    }
   ],
   "source": [
    "i = 0\n",
    "sum1 = 0 \n",
    "while(i != num1):\n",
    "    sum1 += i\n",
    "    i += 1\n",
    "print(\"Sum : \", sum1)"
   ]
  },
  {
   "cell_type": "markdown",
   "metadata": {},
   "source": [
    "# ASSIGNMENT 2"
   ]
  },
  {
   "cell_type": "code",
   "execution_count": 7,
   "metadata": {},
   "outputs": [
    {
     "name": "stdout",
     "output_type": "stream",
     "text": [
      "Enter the number : 1\n"
     ]
    }
   ],
   "source": [
    "num1 = int(input(\"Enter the number : \"))"
   ]
  },
  {
   "cell_type": "code",
   "execution_count": 8,
   "metadata": {},
   "outputs": [
    {
     "name": "stdout",
     "output_type": "stream",
     "text": [
      "1  is not a Prime Number\n",
      "1  is a Prime Number\n"
     ]
    }
   ],
   "source": [
    "if(num1 == 2):\n",
    "    print(num1, \" is a Prime Number\")\n",
    "elif(num1 == 1):\n",
    "    print(num1, \" is not a Prime Number\")\n",
    "\n",
    "i = 2\n",
    "while(i <= num1/2):\n",
    "    if(num1 % i == 0 ):\n",
    "        print(num1, \" is not a Prime Number\")\n",
    "        break\n",
    "    i += 1\n",
    "else:\n",
    "    print(num1, \" is a Prime Number\")\n",
    "\n",
    "    "
   ]
  },
  {
   "cell_type": "code",
   "execution_count": null,
   "metadata": {},
   "outputs": [],
   "source": []
  }
 ],
 "metadata": {
  "kernelspec": {
   "display_name": "Python 3",
   "language": "python",
   "name": "python3"
  },
  "language_info": {
   "codemirror_mode": {
    "name": "ipython",
    "version": 3
   },
   "file_extension": ".py",
   "mimetype": "text/x-python",
   "name": "python",
   "nbconvert_exporter": "python",
   "pygments_lexer": "ipython3",
   "version": "3.7.6"
  }
 },
 "nbformat": 4,
 "nbformat_minor": 4
}
