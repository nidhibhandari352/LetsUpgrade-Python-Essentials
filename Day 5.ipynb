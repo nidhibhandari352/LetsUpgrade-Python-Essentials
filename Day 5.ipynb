{
 "cells": [
  {
   "cell_type": "markdown",
   "metadata": {},
   "source": [
    "# ASSIGNMENT 1\n",
    "## Sort a list in increasing order but all the 0 should be at right hand side."
   ]
  },
  {
   "cell_type": "code",
   "execution_count": 4,
   "metadata": {},
   "outputs": [
    {
     "name": "stdout",
     "output_type": "stream",
     "text": [
      "[1, 1, 1, 2, 2, 3, 4, 4, 10, 56, 56, 0, 0, 0, 0, 0]\n"
     ]
    }
   ],
   "source": [
    "list1 = [0,1,2,10,4,1,0,56,2,0,1,3,0,56,0,4]\n",
    "list1.sort()\n",
    "count1 = 0\n",
    "for element in range(len(list1)):\n",
    "    if list1[element] != 0:\n",
    "        list1[count1] = list1[element]\n",
    "        count1 += 1\n",
    "while count1 < len(list1):\n",
    "    list1[count1] = 0\n",
    "    count1 += 1\n",
    "print(list1)"
   ]
  },
  {
   "cell_type": "markdown",
   "metadata": {},
   "source": [
    "# ASSIGNMENT 2\n",
    "## Merge 2  sorted list produce 1 sorted list  but use only 1 loop either while or for loop only 1 time, so the complexity of the program will be O(N)"
   ]
  },
  {
   "cell_type": "code",
   "execution_count": 21,
   "metadata": {},
   "outputs": [
    {
     "name": "stdout",
     "output_type": "stream",
     "text": [
      "Array after merging\n",
      "5\n",
      "10\n",
      "15\n",
      "20\n",
      "25\n",
      "35\n",
      "40\n",
      "45\n",
      "60\n",
      "60\n",
      "70\n",
      "80\n"
     ]
    }
   ],
   "source": [
    "list1 = [10,20,40,60,70,80]\n",
    "list2 = [5,15,25,35,45,60]\n",
    "len1 = len(arr1)\n",
    "len2 = len(arr2)\n",
    "list3 = [None] * (len1 + len2) \n",
    "i = 0\n",
    "j = 0\n",
    "k = 0\n",
    "while i < len1 and j < len2: \n",
    "    if list1[i] < list2[j]: \n",
    "        list3[k] = list1[i] \n",
    "        i += 1\n",
    "    else: \n",
    "        list3[k] = list2[j] \n",
    "        j += 1 \n",
    "    k += 1\n",
    "while i < len1: \n",
    "    list3[k] = list1[i]; \n",
    "    k += 1\n",
    "    i += 1\n",
    "while j < len2: \n",
    "    list3[k] = list2[j]; \n",
    "    k += 1\n",
    "    j += 1\n",
    "print(\"Array after merging\") \n",
    "for i in range(len1 + len2): \n",
    "    print(list3[i])"
   ]
  },
  {
   "cell_type": "code",
   "execution_count": null,
   "metadata": {},
   "outputs": [],
   "source": []
  }
 ],
 "metadata": {
  "kernelspec": {
   "display_name": "Python 3",
   "language": "python",
   "name": "python3"
  },
  "language_info": {
   "codemirror_mode": {
    "name": "ipython",
    "version": 3
   },
   "file_extension": ".py",
   "mimetype": "text/x-python",
   "name": "python",
   "nbconvert_exporter": "python",
   "pygments_lexer": "ipython3",
   "version": "3.7.6"
  }
 },
 "nbformat": 4,
 "nbformat_minor": 4
}
